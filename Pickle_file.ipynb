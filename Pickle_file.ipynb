{
  "nbformat": 4,
  "nbformat_minor": 0,
  "metadata": {
    "colab": {
      "provenance": [],
      "include_colab_link": true
    },
    "kernelspec": {
      "name": "python3",
      "display_name": "Python 3"
    },
    "language_info": {
      "name": "python"
    }
  },
  "cells": [
    {
      "cell_type": "markdown",
      "metadata": {
        "id": "view-in-github",
        "colab_type": "text"
      },
      "source": [
        "<a href=\"https://colab.research.google.com/github/moyothandiwe/moondancer/blob/main/Pickle_file.ipynb\" target=\"_parent\"><img src=\"https://colab.research.google.com/assets/colab-badge.svg\" alt=\"Open In Colab\"/></a>"
      ]
    },
    {
      "cell_type": "code",
      "execution_count": null,
      "metadata": {
        "id": "JPecRDVf8sZ4"
      },
      "outputs": [],
      "source": [
        "import pickle\n",
        "\n",
        "def save_model_info(student_names, student_ids, model, output_file):\n",
        "    \"\"\"\n",
        "    Save model information to a file.\n",
        "\n",
        "    Args:\n",
        "        student_names (list): List of student names.\n",
        "        student_ids (list): List of student IDs.\n",
        "        model: Trained model.\n",
        "        output_file (str): Output file name.\n",
        "    \"\"\"\n",
        "    data = {\n",
        "        'student_names': student_names,\n",
        "        'student_ids': student_ids,\n",
        "        'model': model\n",
        "    }\n",
        "    with open(output_file, 'wb') as f:\n",
        "        pickle.dump(data, f)\n"
      ]
    },
    {
      "cell_type": "code",
      "source": [
        "student_names = ['Thandiwe Moyo', \"Akéssi N'guessan\", 'Vikash Pradhan','Gregoire Mazal','Valentin Dupuy']\n",
        "student_ids = ['102309', '87378', '87415','65222','87366']\n",
        "model = None #your trained model\n",
        "output_file = 'Moyo_Nguessan_Pradhan_Mazal_Dupuy_model_info.pkl'\n",
        "save_model_info(student_names, student_ids, model, output_file)\n",
        "\n",
        "from google.colab import files\n",
        "\n",
        "# Download the pickle file\n",
        "files.download('Moyo_Nguessan_Pradhan_Mazal_Dupuy_model_info.pkl')\n"
      ],
      "metadata": {
        "colab": {
          "base_uri": "https://localhost:8080/",
          "height": 17
        },
        "id": "FGKp7BOB87gF",
        "outputId": "f0852cfc-a76d-49d0-b3ba-3519a0c95ae6"
      },
      "execution_count": null,
      "outputs": [
        {
          "output_type": "display_data",
          "data": {
            "text/plain": [
              "<IPython.core.display.Javascript object>"
            ],
            "application/javascript": [
              "\n",
              "    async function download(id, filename, size) {\n",
              "      if (!google.colab.kernel.accessAllowed) {\n",
              "        return;\n",
              "      }\n",
              "      const div = document.createElement('div');\n",
              "      const label = document.createElement('label');\n",
              "      label.textContent = `Downloading \"${filename}\": `;\n",
              "      div.appendChild(label);\n",
              "      const progress = document.createElement('progress');\n",
              "      progress.max = size;\n",
              "      div.appendChild(progress);\n",
              "      document.body.appendChild(div);\n",
              "\n",
              "      const buffers = [];\n",
              "      let downloaded = 0;\n",
              "\n",
              "      const channel = await google.colab.kernel.comms.open(id);\n",
              "      // Send a message to notify the kernel that we're ready.\n",
              "      channel.send({})\n",
              "\n",
              "      for await (const message of channel.messages) {\n",
              "        // Send a message to notify the kernel that we're ready.\n",
              "        channel.send({})\n",
              "        if (message.buffers) {\n",
              "          for (const buffer of message.buffers) {\n",
              "            buffers.push(buffer);\n",
              "            downloaded += buffer.byteLength;\n",
              "            progress.value = downloaded;\n",
              "          }\n",
              "        }\n",
              "      }\n",
              "      const blob = new Blob(buffers, {type: 'application/binary'});\n",
              "      const a = document.createElement('a');\n",
              "      a.href = window.URL.createObjectURL(blob);\n",
              "      a.download = filename;\n",
              "      div.appendChild(a);\n",
              "      a.click();\n",
              "      div.remove();\n",
              "    }\n",
              "  "
            ]
          },
          "metadata": {}
        },
        {
          "output_type": "display_data",
          "data": {
            "text/plain": [
              "<IPython.core.display.Javascript object>"
            ],
            "application/javascript": [
              "download(\"download_9d52733b-0ec8-40d1-bfbd-3f906b04897d\", \"Moyo_Nguessan_Pradhan_Mazal_Dupuy_model_info.pkl\", 191)"
            ]
          },
          "metadata": {}
        }
      ]
    },
    {
      "cell_type": "code",
      "source": [
        "#Just to verify the elements in the pickle file\n",
        "\n",
        "with open(output_file, 'rb') as f:\n",
        "    saved_data = pickle.load(f)\n",
        "\n",
        "print(\"Student Names:\", saved_data['student_names'])\n",
        "print(\"Student IDs:\", saved_data['student_ids'])\n",
        "print(\"Model features:\", saved_data['model'].feature_names_in_)"
      ],
      "metadata": {
        "id": "gORdB0dS-P4L"
      },
      "execution_count": null,
      "outputs": []
    }
  ]
}